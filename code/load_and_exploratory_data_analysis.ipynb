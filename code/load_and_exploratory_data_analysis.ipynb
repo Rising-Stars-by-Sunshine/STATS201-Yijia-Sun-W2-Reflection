# Import necessary libraries
import rasterio
import numpy as np
import pandas as pd
import matplotlib.pyplot as plt

# 1. Load the .tif data
data_path = 'data/suit.tif'  # Adjust path as necessary
with rasterio.open(data_path) as src:
    # Read the data (first band)
    data = src.read(1)
    # Get metadata for understanding the data
    metadata = src.meta

# 2. Basic Exploratory Data Analysis (EDA)

# 2.1 Show basic information about the data
print(f"Metadata: {metadata}")
print(f"Shape of the data: {data.shape}")
print(f"Data type: {data.dtype}")

# 2.2 Visualizing the data
plt.figure(figsize=(10, 6))
plt.imshow(data, cmap='viridis')
plt.colorbar(label='Suitability Index')
plt.title('Agricultural Suitability Index')
plt.xlabel('Longitude')
plt.ylabel('Latitude')
plt.show()

# 2.3 Descriptive statistics
# Create a DataFrame to perform basic stats
data_flat = data.flatten()  # Flattening the data for statistical analysis
data_df = pd.DataFrame(data_flat, columns=['Suitability'])

# Show basic statistics
print("\nDescriptive Statistics:")
print(data_df.describe())

# 2.4 Check for missing data
missing_data_percentage = np.sum(np.isnan(data)) / data.size * 100
print(f"Percentage of missing data: {missing_data_percentage:.2f}%")

# 2.5 Histogram of data values
plt.figure(figsize=(8, 6))
plt.hist(data_flat, bins=50, color='blue', alpha=0.7)
plt.title('Histogram of Agricultural Suitability Index')
plt.xlabel('Suitability Index')
plt.ylabel('Frequency')
plt.show()

